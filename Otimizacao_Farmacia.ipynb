{
 "cells": [
  {
   "cell_type": "markdown",
   "metadata": {},
   "source": [
    "<h2>Cálculo da solução ótima</h2>\n",
    "<br>\n",
    "<br>\n",
    "Através da curva ABC, iremos trabalhar com <strong>20% dos produtos</strong> da farmácia que representam cerca de <strong>80% da soma total anual</strong> dos remédios da farmácia.<br>\n",
    "Dito isso, nossa amostra serão os produtos das linhas <strong>1 a 562.</strong> Com a quantidade de linhas de 2118.\n"
   ]
  },
  {
   "cell_type": "code",
   "execution_count": 2,
   "metadata": {
    "collapsed": true
   },
   "outputs": [],
   "source": [
    "#Bibliotecas\n",
    "import pandas as pd\n",
    "from pulp import *"
   ]
  },
  {
   "cell_type": "code",
   "execution_count": 3,
   "metadata": {},
   "outputs": [
    {
     "data": {
      "text/html": [
       "<div>\n",
       "<style>\n",
       "    .dataframe thead tr:only-child th {\n",
       "        text-align: right;\n",
       "    }\n",
       "\n",
       "    .dataframe thead th {\n",
       "        text-align: left;\n",
       "    }\n",
       "\n",
       "    .dataframe tbody tr th {\n",
       "        vertical-align: top;\n",
       "    }\n",
       "</style>\n",
       "<table border=\"1\" class=\"dataframe\">\n",
       "  <thead>\n",
       "    <tr style=\"text-align: right;\">\n",
       "      <th></th>\n",
       "      <th>DESCRICAO</th>\n",
       "      <th>APRESENTACAO</th>\n",
       "      <th>QUANTIDADE</th>\n",
       "      <th>TOTAL_BRUTO</th>\n",
       "      <th>TOTAL_LIQUIDO</th>\n",
       "      <th>PROD_SALDO</th>\n",
       "      <th>VALOR_ULT_COMPRA</th>\n",
       "    </tr>\n",
       "  </thead>\n",
       "  <tbody>\n",
       "    <tr>\n",
       "      <th>0</th>\n",
       "      <td>CITRATO DE SILDENAFILA  50MG  COMP</td>\n",
       "      <td>50mg cx 8 comp rev</td>\n",
       "      <td>100</td>\n",
       "      <td>12426,60019</td>\n",
       "      <td>6213,210075</td>\n",
       "      <td>4</td>\n",
       "      <td>4,10529995</td>\n",
       "    </tr>\n",
       "    <tr>\n",
       "      <th>1</th>\n",
       "      <td>TORSILAX  C/ 10 COMPR. NEO QUIM.</td>\n",
       "      <td>CX/ 30 COMPR.</td>\n",
       "      <td>886</td>\n",
       "      <td>10289,3602</td>\n",
       "      <td>5178,870199</td>\n",
       "      <td>-12</td>\n",
       "      <td>2,290888786</td>\n",
       "    </tr>\n",
       "    <tr>\n",
       "      <th>2</th>\n",
       "      <td>NEOSALDINA 30 DRAG</td>\n",
       "      <td>NaN</td>\n",
       "      <td>315</td>\n",
       "      <td>9293,980021</td>\n",
       "      <td>7436,83013</td>\n",
       "      <td>13</td>\n",
       "      <td>22,23749924</td>\n",
       "    </tr>\n",
       "    <tr>\n",
       "      <th>3</th>\n",
       "      <td>CIMELIDE C/12 COMPR.(NIMESULIDA)</td>\n",
       "      <td>NIMESULIDA CIMED</td>\n",
       "      <td>497</td>\n",
       "      <td>7971,510023</td>\n",
       "      <td>4008,039969</td>\n",
       "      <td>71</td>\n",
       "      <td>2,524600029</td>\n",
       "    </tr>\n",
       "    <tr>\n",
       "      <th>4</th>\n",
       "      <td>DORFLEX</td>\n",
       "      <td>300+35+50 mg comp x 300 emb. mult</td>\n",
       "      <td>51</td>\n",
       "      <td>7811,520081</td>\n",
       "      <td>4922,370056</td>\n",
       "      <td>1</td>\n",
       "      <td>117,3399963</td>\n",
       "    </tr>\n",
       "    <tr>\n",
       "      <th>5</th>\n",
       "      <td>MELOXICAM 15 MG.C/10 COMP. MERCK</td>\n",
       "      <td>GENERICO MERCK</td>\n",
       "      <td>134</td>\n",
       "      <td>4978,990086</td>\n",
       "      <td>2510,040016</td>\n",
       "      <td>5</td>\n",
       "      <td>6,454999924</td>\n",
       "    </tr>\n",
       "    <tr>\n",
       "      <th>6</th>\n",
       "      <td>CITRATO DE SILDENAFILA</td>\n",
       "      <td>50mg cx 4 comp</td>\n",
       "      <td>196</td>\n",
       "      <td>4653,140087</td>\n",
       "      <td>3124,250049</td>\n",
       "      <td>49</td>\n",
       "      <td>3,319999933</td>\n",
       "    </tr>\n",
       "    <tr>\n",
       "      <th>7</th>\n",
       "      <td>MULTIGRIP</td>\n",
       "      <td>400+4+4mg 2bl x 10 cap</td>\n",
       "      <td>198</td>\n",
       "      <td>4108,739998</td>\n",
       "      <td>2059,699992</td>\n",
       "      <td>33</td>\n",
       "      <td>4,289999962</td>\n",
       "    </tr>\n",
       "    <tr>\n",
       "      <th>8</th>\n",
       "      <td>FLORENT</td>\n",
       "      <td>100MG CX 12 CAP</td>\n",
       "      <td>104</td>\n",
       "      <td>3844,139931</td>\n",
       "      <td>1964,170044</td>\n",
       "      <td>6</td>\n",
       "      <td>12,18875027</td>\n",
       "    </tr>\n",
       "    <tr>\n",
       "      <th>9</th>\n",
       "      <td>BETRICORT</td>\n",
       "      <td>creme bg 30g</td>\n",
       "      <td>145</td>\n",
       "      <td>3826,599955</td>\n",
       "      <td>1915,829967</td>\n",
       "      <td>17</td>\n",
       "      <td>5,309999943</td>\n",
       "    </tr>\n",
       "  </tbody>\n",
       "</table>\n",
       "</div>"
      ],
      "text/plain": [
       "                            DESCRICAO                       APRESENTACAO  \\\n",
       "0  CITRATO DE SILDENAFILA  50MG  COMP                 50mg cx 8 comp rev   \n",
       "1    TORSILAX  C/ 10 COMPR. NEO QUIM.                      CX/ 30 COMPR.   \n",
       "2                  NEOSALDINA 30 DRAG                                NaN   \n",
       "3    CIMELIDE C/12 COMPR.(NIMESULIDA)                   NIMESULIDA CIMED   \n",
       "4                             DORFLEX  300+35+50 mg comp x 300 emb. mult   \n",
       "5    MELOXICAM 15 MG.C/10 COMP. MERCK                     GENERICO MERCK   \n",
       "6              CITRATO DE SILDENAFILA                     50mg cx 4 comp   \n",
       "7                           MULTIGRIP             400+4+4mg 2bl x 10 cap   \n",
       "8                             FLORENT                    100MG CX 12 CAP   \n",
       "9                           BETRICORT                       creme bg 30g   \n",
       "\n",
       "   QUANTIDADE  TOTAL_BRUTO TOTAL_LIQUIDO PROD_SALDO VALOR_ULT_COMPRA  \n",
       "0         100  12426,60019   6213,210075          4       4,10529995  \n",
       "1         886   10289,3602   5178,870199        -12      2,290888786  \n",
       "2         315  9293,980021    7436,83013         13      22,23749924  \n",
       "3         497  7971,510023   4008,039969         71      2,524600029  \n",
       "4          51  7811,520081   4922,370056          1      117,3399963  \n",
       "5         134  4978,990086   2510,040016          5      6,454999924  \n",
       "6         196  4653,140087   3124,250049         49      3,319999933  \n",
       "7         198  4108,739998   2059,699992         33      4,289999962  \n",
       "8         104  3844,139931   1964,170044          6      12,18875027  \n",
       "9         145  3826,599955   1915,829967         17      5,309999943  "
      ]
     },
     "execution_count": 3,
     "metadata": {},
     "output_type": "execute_result"
    }
   ],
   "source": [
    "#Entrando com a tabela\n",
    "dados = pd.read_csv(\"dados_Farmacia - Teste.csv\")\n",
    "dados.head(10)"
   ]
  },
  {
   "cell_type": "code",
   "execution_count": 82,
   "metadata": {},
   "outputs": [],
   "source": [
    "#Esse vetor possui todos os valores (TOTAL_BRUTO) dos produtos pertencentes a classe A\n",
    "#Os valores desse vetor posteriormente vão ser trabalhados\n",
    "valorClasseA = []\n",
    "for index,item in enumerate(dados.TOTAL_BRUTO):\n",
    "    if (index <= 562):\n",
    "        valorClasseA.insert(index,item)\n",
    "    else:\n",
    "        break"
   ]
  },
  {
   "cell_type": "code",
   "execution_count": 86,
   "metadata": {},
   "outputs": [
    {
     "ename": "ValueError",
     "evalue": "could not convert string to float: '12426,60019'",
     "output_type": "error",
     "traceback": [
      "\u001b[1;31m---------------------------------------------------------------------------\u001b[0m",
      "\u001b[1;31mValueError\u001b[0m                                Traceback (most recent call last)",
      "\u001b[1;32m<ipython-input-86-2506538eb0aa>\u001b[0m in \u001b[0;36m<module>\u001b[1;34m()\u001b[0m\n\u001b[0;32m      1\u001b[0m \u001b[1;32mfor\u001b[0m \u001b[0mindex\u001b[0m\u001b[1;33m,\u001b[0m\u001b[0mitem\u001b[0m \u001b[1;32min\u001b[0m \u001b[0menumerate\u001b[0m\u001b[1;33m(\u001b[0m\u001b[0mvalorClasseA\u001b[0m\u001b[1;33m)\u001b[0m\u001b[1;33m:\u001b[0m\u001b[1;33m\u001b[0m\u001b[0m\n\u001b[1;32m----> 2\u001b[1;33m     \u001b[0mvalorClasseA\u001b[0m\u001b[1;33m[\u001b[0m\u001b[0mindex\u001b[0m\u001b[1;33m]\u001b[0m \u001b[1;33m=\u001b[0m \u001b[0mfloat\u001b[0m\u001b[1;33m(\u001b[0m\u001b[0mitem\u001b[0m\u001b[1;33m)\u001b[0m\u001b[1;33m\u001b[0m\u001b[0m\n\u001b[0m",
      "\u001b[1;31mValueError\u001b[0m: could not convert string to float: '12426,60019'"
     ]
    }
   ],
   "source": []
  },
  {
   "cell_type": "code",
   "execution_count": null,
   "metadata": {},
   "outputs": [],
   "source": []
  },
  {
   "cell_type": "code",
   "execution_count": 79,
   "metadata": {},
   "outputs": [
    {
     "name": "stdout",
     "output_type": "stream",
     "text": [
      "<class 'pandas.core.series.Series'>\n",
      "2118\n"
     ]
    }
   ],
   "source": []
  },
  {
   "cell_type": "code",
   "execution_count": null,
   "metadata": {
    "collapsed": true
   },
   "outputs": [],
   "source": []
  },
  {
   "cell_type": "code",
   "execution_count": null,
   "metadata": {
    "collapsed": true
   },
   "outputs": [],
   "source": []
  },
  {
   "cell_type": "code",
   "execution_count": null,
   "metadata": {
    "collapsed": true
   },
   "outputs": [],
   "source": []
  },
  {
   "cell_type": "code",
   "execution_count": null,
   "metadata": {
    "collapsed": true
   },
   "outputs": [],
   "source": []
  }
 ],
 "metadata": {
  "kernelspec": {
   "display_name": "Python 3",
   "language": "python",
   "name": "python3"
  },
  "language_info": {
   "codemirror_mode": {
    "name": "ipython",
    "version": 3
   },
   "file_extension": ".py",
   "mimetype": "text/x-python",
   "name": "python",
   "nbconvert_exporter": "python",
   "pygments_lexer": "ipython3",
   "version": "3.6.1"
  }
 },
 "nbformat": 4,
 "nbformat_minor": 2
}
